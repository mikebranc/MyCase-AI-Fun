{
 "cells": [
  {
   "cell_type": "code",
   "execution_count": 15,
   "id": "be579813",
   "metadata": {},
   "outputs": [],
   "source": [
    "import pandas as pd \n",
    "import os\n",
    "OPENAI_API_KEY = \"...\"\n",
    "os.environ[\"OPENAI_API_KEY\"] = OPENAI_API_KEY"
   ]
  },
  {
   "cell_type": "markdown",
   "id": "687e7579",
   "metadata": {},
   "source": [
    "# Use OpenAI Chat\n",
    "Just Testing out the chat to see some code work!"
   ]
  },
  {
   "cell_type": "code",
   "execution_count": 3,
   "id": "858fccf4",
   "metadata": {},
   "outputs": [],
   "source": [
    "from langchain.llms import OpenAI\n",
    "llm = OpenAI(temperature=0.9, openai_api_key=OPENAI_API_KEY)"
   ]
  },
  {
   "cell_type": "code",
   "execution_count": 4,
   "id": "424fc135",
   "metadata": {
    "scrolled": true
   },
   "outputs": [
    {
     "name": "stdout",
     "output_type": "stream",
     "text": [
      "\n",
      "\n",
      "Yes, MyCase is a cloud-based legal practice management platform used by lawyers and law firms. It offers features such as document management, electronic billing, client management, time tracking, and more.\n"
     ]
    }
   ],
   "source": [
    "query = \"Have you heard of MyCase?\"\n",
    "print(llm(query))"
   ]
  },
  {
   "cell_type": "markdown",
   "id": "0169b78c",
   "metadata": {},
   "source": [
    "# Creating a Document\n",
    "Practice with documents, more info here: https://python.langchain.com/en/latest/modules/indexes/document_loaders.html"
   ]
  },
  {
   "cell_type": "markdown",
   "id": "65e90bc2",
   "metadata": {},
   "source": [
    "## Copy and Paste"
   ]
  },
  {
   "cell_type": "code",
   "execution_count": 5,
   "id": "3e5fcd60",
   "metadata": {},
   "outputs": [],
   "source": [
    "text = \"\"\"\n",
    "Even after an invoice has been created, you can still go back and make changes to it. This is useful for fixing errors, adding additional line items, changing payment terms, etc.\n",
    "\n",
    " \n",
    "\n",
    "\n",
    "To edit an invoice, simply find the invoice you want to edit and open its details page (pictured below). Then, in the actions toolbar, click the Edit button.\n",
    "\n",
    " \n",
    "\n",
    "\n",
    "MyCase will then take you to the Invoice Editor where you will be able to make changes to the invoice.\n",
    "\n",
    "If trust funds have been applied to the invoice, you can choose to change how the trust information is displayed. While editing the invoice, scroll down to the Apply Trust & Credit Funds section. You will see the available dropdown menus to select whether to have the invoice \"Show Trust Summary\" (balance only), \"Show Trust History,\" or \"Don't Show on Invoice\" (no trust information).\n",
    "\n",
    "If you need to change the contact or case/matter for the invoice, please note that upon changing this information, the invoice will then change to reflect uninvoiced flat fees, time and expenses for the newly selected contact or case/matter.\n",
    "\n",
    "If you need to change an invoice that had no case selected to now include a case, you can do this by clicking the Edit button and then selecting the case you wish to link it to under the 'Matter' section. Uninvoiced time entries, expenses and flat fees related to this case will then appear on the invoice.\n",
    "\n",
    "If you need to move a flat fee, time entry, or expense off of an invoice and to another case, click the red X to the left of the entry and choose 'Remove'. This will send the item back to the case file. Save the invoice before moving forward. Then, go to the case file where that removed item is housed and click the Edit button to change the case it should be associated with. The next time that you invoice for this case, the item you moved to this case will be able to be invoiced. \n",
    "\n",
    " \n",
    "\n",
    " \n",
    "\n",
    "User-added image\n",
    "To edit invoice sharing:\n",
    "\n",
    "If you need to share or un-share the invoice with contacts, click the Share via Portal or Email Invoice on the invoice toolbar. Read more about Invoice Sharing. You can also send payment reminders and record a payment from this invoice toolbar.\n",
    "\n",
    " \n",
    "\n",
    "\n",
    " \n",
    "\n",
    "User-added image\n",
    "To edit payment history of an invoice (issue refunds and delete transactions):\n",
    "\n",
    "To edit payment history, click the Invoice History button on the invoice toolbar. Read more about Editing Payment History.\n",
    "\n",
    " \n",
    "\"\"\""
   ]
  },
  {
   "cell_type": "code",
   "execution_count": 9,
   "id": "5cd351da",
   "metadata": {},
   "outputs": [],
   "source": [
    "from langchain.docstore.document import Document\n",
    "metadata={\"article-name\": \"How do I edit an existing invoice? [w/ Video]\"}\n",
    "doc = Document(page_content=text, metadata=metadata) "
   ]
  },
  {
   "cell_type": "code",
   "execution_count": 10,
   "id": "48bd7753",
   "metadata": {
    "scrolled": true
   },
   "outputs": [
    {
     "data": {
      "text/plain": [
       "Document(page_content='\\nEven after an invoice has been created, you can still go back and make changes to it. This is useful for fixing errors, adding additional line items, changing payment terms, etc.\\n\\n \\n\\n\\nTo edit an invoice, simply find the invoice you want to edit and open its details page (pictured below). Then, in the actions toolbar, click the Edit button.\\n\\n \\n\\n\\nMyCase will then take you to the Invoice Editor where you will be able to make changes to the invoice.\\n\\nIf trust funds have been applied to the invoice, you can choose to change how the trust information is displayed. While editing the invoice, scroll down to the Apply Trust & Credit Funds section. You will see the available dropdown menus to select whether to have the invoice \"Show Trust Summary\" (balance only), \"Show Trust History,\" or \"Don\\'t Show on Invoice\" (no trust information).\\n\\nIf you need to change the contact or case/matter for the invoice, please note that upon changing this information, the invoice will then change to reflect uninvoiced flat fees, time and expenses for the newly selected contact or case/matter.\\n\\nIf you need to change an invoice that had no case selected to now include a case, you can do this by clicking the Edit button and then selecting the case you wish to link it to under the \\'Matter\\' section. Uninvoiced time entries, expenses and flat fees related to this case will then appear on the invoice.\\n\\nIf you need to move a flat fee, time entry, or expense off of an invoice and to another case, click the red X to the left of the entry and choose \\'Remove\\'. This will send the item back to the case file. Save the invoice before moving forward. Then, go to the case file where that removed item is housed and click the Edit button to change the case it should be associated with. The next time that you invoice for this case, the item you moved to this case will be able to be invoiced. \\n\\n \\n\\n \\n\\nUser-added image\\nTo edit invoice sharing:\\n\\nIf you need to share or un-share the invoice with contacts, click the Share via Portal or Email Invoice on the invoice toolbar. Read more about Invoice Sharing. You can also send payment reminders and record a payment from this invoice toolbar.\\n\\n \\n\\n\\n \\n\\nUser-added image\\nTo edit payment history of an invoice (issue refunds and delete transactions):\\n\\nTo edit payment history, click the Invoice History button on the invoice toolbar. Read more about Editing Payment History.\\n\\n \\n', metadata={'article-name': 'How do I edit an existing invoice? [w/ Video]'})"
      ]
     },
     "execution_count": 10,
     "metadata": {},
     "output_type": "execute_result"
    }
   ],
   "source": [
    "doc"
   ]
  },
  {
   "cell_type": "markdown",
   "id": "547937d4",
   "metadata": {},
   "source": [
    "## URLs\n",
    "Loading URLs, here we are loading multiple help articles without having to copy and paste \n",
    "https://python.langchain.com/en/latest/modules/indexes/document_loaders/examples/url.html"
   ]
  },
  {
   "cell_type": "code",
   "execution_count": 3,
   "id": "1ee7a349",
   "metadata": {},
   "outputs": [],
   "source": [
    "from langchain.document_loaders import UnstructuredURLLoader\n",
    "import nltk"
   ]
  },
  {
   "cell_type": "code",
   "execution_count": 8,
   "id": "e8e728f3",
   "metadata": {},
   "outputs": [],
   "source": [
    "urls = [\n",
    "   'https://support.mycase.com/en/articles/6638008-how-do-i-edit-an-existing-invoice-w-video',\n",
    "    'https://support.mycase.com/en/articles/6449590-can-i-create-time-expense-entries-for-other-firm-users',\n",
    "    'https://support.mycase.com/en/articles/6442227-improved-invoice-details-layout'\n",
    "]"
   ]
  },
  {
   "cell_type": "code",
   "execution_count": 9,
   "id": "6faa836a",
   "metadata": {},
   "outputs": [],
   "source": [
    "loader = UnstructuredURLLoader(urls=urls)"
   ]
  },
  {
   "cell_type": "code",
   "execution_count": 10,
   "id": "7b75fc55",
   "metadata": {},
   "outputs": [],
   "source": [
    "data = loader.load()"
   ]
  },
  {
   "cell_type": "code",
   "execution_count": 11,
   "id": "f8f52696",
   "metadata": {},
   "outputs": [
    {
     "data": {
      "text/plain": [
       "[Document(page_content='Even after an invoice has been created, you can still go back and make changes to it. This is useful for fixing errors, adding additional line items, changing payment terms, etc.\\n\\nTo edit an invoice, simply find the invoice you want to edit and open its details page (pictured below). Then, in the actions toolbar, click the Edit button.\\n\\nTo edit invoice sharing:\\n\\nIf you need to share or un-share the invoice with contacts, click the Share via Portal or Email Invoice on the invoice toolbar. Read more about Invoice Sharing. You can also send payment reminders and record a payment from this invoice toolbar.\\n\\nTo edit payment history of an invoice (issue refunds and delete transactions):\\n\\nTo edit payment history, click the Invoice History button on the invoice toolbar. Read more about Editing Payment History.\\n\\nCreating an Invoice [w/ VIDEO]Enabling Online Payments on an Invoice [w/ VIDEO]Quick Invoicing Without a Case', metadata={'source': 'https://support.mycase.com/en/articles/6638008-how-do-i-edit-an-existing-invoice-w-video'}),\n",
       " Document(page_content=\"Yes, you can create time/expense entries on behalf of another firm user.\\n\\nOVERVIEW\\n\\nThis comes in handy for situations such as a paralegal entering time for an attorney. Even though the paralegal is entering the entry into MyCase, it should still be tied to the attorney, not the paralegal.\\n\\nWhen creating a time/expense entry, there is a field called User (pictured below). You will see a dropdown menu that has the names of all the firm employees on your MyCase account. By default, your name will appear here. Simply select the name of the person you'd like to add the entry for.\", metadata={'source': 'https://support.mycase.com/en/articles/6449590-can-i-create-time-expense-entries-for-other-firm-users'}),\n",
       " Document(page_content='Primary Action Bar\\n\\nTo help you take the next important action on your invoice, you can find all of your primary actions in this bar. This includes a new option to directly email your invoices from MyCase without requiring the Client Portal, including a credit card payment link (no password required to pay).\\n\\nThese options include:\\n\\nEdit - The edit button has moved to the left side of the screen\\n\\nShare via Portal - Renamed from \"Sharing & Reminders\"\\n\\nEmail Invoice - A new feature that allows for you to send a PDF attachment of the invoice directly via email to your clients, no Client Portal required. If you have MyCase Payments turned on, this will also include a direct payment link for clients to pay by credit card, which also doesn\\'t require a login. To learn more about this new feature, click here.\\n\\nRecord Payment - This is in the same location.\\n\\nAdditional Options\\n\\nWe\\'ve changed some of the additional invoice options into icons. This includes Download, Print, Delete, and a direct Payment Page Link option. The new Print option will immediately bring up your local Printer Options menu (Chrome & Safari browsers).\\n\\nIn order from left to right:\\n\\nDelete - If you need to delete an invoice, click this option. You\\'ll be prompted with another message to confirm this action before the invoice is actually deleted.\\n\\nPrint - MyCase now allows the option to print invoices directly from your browser, without the need to download the file first. Note that this capability is only available on Chrome and Safari browsers. On Firefox and Internet Explorer or Edge, the invoice will appear in a separate window/tab which will then allow you to print from there (fewer steps than before).\\n\\nDownload - We moved the \"Export\" functionality to a download button, but all the functionality has stayed the same.\\n\\nCredit Card Payment Link - If you have MyCase Payments turned on, you will have the option to copy a credit card payment page link directly from this option and give it to your clients. They will not need a password or login to pay via this method. To learn more, click here.\\n\\nInvoice History\\n\\nYou can now see all the actions taken on the top of the invoice, with a quick preview of the most recent activity always displayed. To expand the history, just click the \"View History\" option.\\n\\nHere, you can also find the delete and refund options for payments made on invoices, including trust amounts applied automatically when creating invoices.\\n\\nNo-Case Invoicing\\n\\nMyCase makes it easy for you to create an invoice for contacts whom you need to bill for a consultation, or to bill clients who need a basic task done that isn\\'t necessarily associated with a case or matter.When creating an invoice, at the top left select the contact first. If the contact you\\'ve selected has cases linked to them, their cases will be available to choose as well as an option for \\'None\\'. If the contact is linked to one case, then that case will be the default option. If the contact you\\'ve selected does not have any cases linked to them, \\'None\\' will be the only option.To make sure the invoice is created and not linked to a case, select \\'None\\' under the \\'Matter\\' section.\\n\\nWhen an invoice is being created and not linked to a case, the invoice will default to have a flat fee line item. Simply add your notes and the amount of the flat fee. You can also add more flat fees if you require them. Time entries and expenses will not be an option unless a case file were to be chosen.\\n\\nAfter the invoice is saved, it can be shared via the client portal or emailed directly to the client\\'s email. Separately, a link to a payment page can be copied and sent via text or email if you have MyCase Payments turned on. To learn more about MyCase Payments, click here.The invoice can be found in the Invoices section under the Contact details. It can also be viewed in the main Invoicing section in the Billing tab.', metadata={'source': 'https://support.mycase.com/en/articles/6442227-improved-invoice-details-layout'})]"
      ]
     },
     "execution_count": 11,
     "metadata": {},
     "output_type": "execute_result"
    }
   ],
   "source": [
    "data"
   ]
  },
  {
   "cell_type": "markdown",
   "id": "37524bf1",
   "metadata": {},
   "source": [
    "# QA With Documents\n",
    "https://python.langchain.com/en/latest/use_cases/question_answering.html\n",
    "https://python.langchain.com/en/latest/modules/chains/index_examples/vector_db_qa.html"
   ]
  },
  {
   "cell_type": "code",
   "execution_count": 21,
   "id": "69f43ea2",
   "metadata": {},
   "outputs": [],
   "source": [
    "from langchain.indexes import VectorstoreIndexCreator\n",
    "from langchain.vectorstores import Chroma\n",
    "from langchain.text_splitter import CharacterTextSplitter\n",
    "from langchain.embeddings import OpenAIEmbeddings"
   ]
  },
  {
   "cell_type": "code",
   "execution_count": 24,
   "id": "55319d8e",
   "metadata": {},
   "outputs": [
    {
     "name": "stderr",
     "output_type": "stream",
     "text": [
      "Using embedded DuckDB without persistence: data will be transient\n"
     ]
    }
   ],
   "source": [
    "# using the loader up above with the urls\n",
    "index = VectorstoreIndexCreator(\n",
    "    vectorstore_cls=Chroma, \n",
    "    embedding=OpenAIEmbeddings(openai_api_key=OPENAI_API_KEY),\n",
    "    text_splitter=CharacterTextSplitter(chunk_size=1000, chunk_overlap=0)\n",
    ").from_loaders([loader]) "
   ]
  },
  {
   "cell_type": "code",
   "execution_count": 25,
   "id": "635d24d9",
   "metadata": {},
   "outputs": [
    {
     "data": {
      "text/plain": [
       "VectorStoreIndexWrapper(vectorstore=<langchain.vectorstores.chroma.Chroma object at 0x16ce47490>)"
      ]
     },
     "execution_count": 25,
     "metadata": {},
     "output_type": "execute_result"
    }
   ],
   "source": [
    "index"
   ]
  },
  {
   "cell_type": "code",
   "execution_count": 28,
   "id": "4ee04cb4",
   "metadata": {},
   "outputs": [
    {
     "data": {
      "text/plain": [
       "{'question': 'How do I edit an invoice?',\n",
       " 'answer': ' To edit an invoice, find the invoice you want to edit and open its details page. Then, in the actions toolbar, click the Edit button. You can also share or un-share the invoice with contacts, send payment reminders, record a payment, delete the invoice, print the invoice, download the invoice, and email the invoice with a credit card payment link.\\nSource: \\nhttps://support.mycase.com/en/articles/6638008-how-do-i-edit-an-existing-invoice-w-video\\nhttps://support.mycase.com/en/articles/6442227-improved-invoice-details-layout',\n",
       " 'sources': ''}"
      ]
     },
     "execution_count": 28,
     "metadata": {},
     "output_type": "execute_result"
    }
   ],
   "source": [
    "query = \"How do I edit an invoice?\"\n",
    "index.query_with_sources(query)"
   ]
  },
  {
   "cell_type": "code",
   "execution_count": 30,
   "id": "cd79cf23",
   "metadata": {},
   "outputs": [
    {
     "data": {
      "text/plain": [
       "{'question': 'How do I create a time entry?',\n",
       " 'answer': \" To create a time entry, open the Invoices section under the Contact details and select the contact you'd like to add the entry for. Then, select 'None' under the 'Matter' section and add your notes and the amount of the flat fee.\\n\",\n",
       " 'sources': 'https://support.mycase.com/en/articles/6449590-can-i-create-time-expense-entries-for-other-firm-users, https://support.mycase.com/en/articles/6442227-improved-invoice-details-layout'}"
      ]
     },
     "execution_count": 30,
     "metadata": {},
     "output_type": "execute_result"
    }
   ],
   "source": [
    "query = \"How do I create a time entry?\"\n",
    "index.query_with_sources(query)"
   ]
  },
  {
   "cell_type": "code",
   "execution_count": 45,
   "id": "c2ea8262",
   "metadata": {},
   "outputs": [
    {
     "data": {
      "text/plain": [
       "{'question': 'Can I create a time entry for other firm users?',\n",
       " 'answer': ' Yes, you can create time/expense entries on behalf of another firm user.\\n',\n",
       " 'sources': 'https://support.mycase.com/en/articles/6449590-can-i-create-time-expense-entries-for-other-firm-users'}"
      ]
     },
     "execution_count": 45,
     "metadata": {},
     "output_type": "execute_result"
    }
   ],
   "source": [
    "query = \"Can I create a time entry for other firm users?\"\n",
    "index.query_with_sources(query)"
   ]
  },
  {
   "cell_type": "code",
   "execution_count": 46,
   "id": "4aef4cb4",
   "metadata": {
    "scrolled": true
   },
   "outputs": [
    {
     "data": {
      "text/plain": [
       "{'question': 'Is MyCase a good company?',\n",
       " 'answer': \" I don't know if MyCase is a good company.\\n\",\n",
       " 'sources': 'N/A'}"
      ]
     },
     "execution_count": 46,
     "metadata": {},
     "output_type": "execute_result"
    }
   ],
   "source": [
    "query = \"Is MyCase a good company?\"\n",
    "index.query_with_sources(query)"
   ]
  },
  {
   "cell_type": "code",
   "execution_count": 47,
   "id": "0b9ae9b4",
   "metadata": {},
   "outputs": [
    {
     "data": {
      "text/plain": [
       "{'question': 'Who is oliva rodrigo?',\n",
       " 'answer': \" I don't know.\\n\",\n",
       " 'sources': 'N/A'}"
      ]
     },
     "execution_count": 47,
     "metadata": {},
     "output_type": "execute_result"
    }
   ],
   "source": [
    "query = \"Who is oliva rodrigo?\"\n",
    "index.query_with_sources(query)"
   ]
  },
  {
   "cell_type": "markdown",
   "id": "7ce7807c",
   "metadata": {},
   "source": [
    "It looks like the bot is slightly over confident but I think this has to do more with the limited information given to it. It is a good sign that it says it doesn't know to things it doesn't know"
   ]
  },
  {
   "cell_type": "markdown",
   "id": "7375c066",
   "metadata": {},
   "source": [
    "# Retrieval Question/Answering \n",
    "https://python.langchain.com/en/latest/modules/chains/index_examples/vector_db_qa.html\n",
    "https://python.langchain.com/en/latest/modules/chains/index_examples/question_answering.html\n",
    "\n",
    "This is essentially what we are doing above, but the code above is a level of abstraction higher. Here, we are really diving into the RetrievalQA chain"
   ]
  },
  {
   "cell_type": "code",
   "execution_count": 34,
   "id": "45954943",
   "metadata": {},
   "outputs": [],
   "source": [
    "from langchain.embeddings.openai import OpenAIEmbeddings\n",
    "from langchain.vectorstores import Chroma\n",
    "from langchain.text_splitter import CharacterTextSplitter\n",
    "from langchain.llms import OpenAI\n",
    "from langchain.chains import RetrievalQA\n",
    "from langchain.prompts import PromptTemplate"
   ]
  },
  {
   "cell_type": "code",
   "execution_count": 36,
   "id": "e964b67e",
   "metadata": {},
   "outputs": [
    {
     "name": "stderr",
     "output_type": "stream",
     "text": [
      "Using embedded DuckDB without persistence: data will be transient\n"
     ]
    }
   ],
   "source": [
    "urls = [\n",
    "   'https://support.mycase.com/en/articles/6638008-how-do-i-edit-an-existing-invoice-w-video',\n",
    "    'https://support.mycase.com/en/articles/6449590-can-i-create-time-expense-entries-for-other-firm-users',\n",
    "    'https://support.mycase.com/en/articles/6442227-improved-invoice-details-layout'\n",
    "]\n",
    "loader = UnstructuredURLLoader(urls=urls)\n",
    "documents = loader.load()\n",
    "\n",
    "text_splitter = CharacterTextSplitter(chunk_size=1000, chunk_overlap=0)\n",
    "texts = text_splitter.split_documents(documents)\n",
    "\n",
    "embeddings = OpenAIEmbeddings()\n",
    "docsearch = Chroma.from_documents(texts, embeddings)"
   ]
  },
  {
   "cell_type": "code",
   "execution_count": 37,
   "id": "a04eaf2a",
   "metadata": {},
   "outputs": [],
   "source": [
    "prompt_template = \"\"\"Use the following pieces of context to answer the question at the end. If you don't know the answer, just say that you don't know, don't try to make up an answer.\n",
    "\n",
    "{context}\n",
    "\n",
    "Question: {question}\n",
    "\"\"\"\n",
    "PROMPT = PromptTemplate(\n",
    "    template=prompt_template, input_variables=[\"context\", \"question\"]\n",
    ")"
   ]
  },
  {
   "cell_type": "code",
   "execution_count": 39,
   "id": "c20287ca",
   "metadata": {},
   "outputs": [],
   "source": [
    "chain_type_kwargs = {\"prompt\": PROMPT}\n",
    "qa = RetrievalQA.from_chain_type(\n",
    "    llm=OpenAI(),\n",
    "    chain_type=\"stuff\",\n",
    "    retriever=docsearch.as_retriever(),\n",
    "    chain_type_kwargs=chain_type_kwargs,\n",
    "    return_source_documents=True\n",
    ")\n"
   ]
  },
  {
   "cell_type": "code",
   "execution_count": 40,
   "id": "4bc78aa4",
   "metadata": {},
   "outputs": [],
   "source": [
    "query = \"How do I create a time entry?\"\n",
    "result = qa({\"query\": query})"
   ]
  },
  {
   "cell_type": "code",
   "execution_count": 42,
   "id": "73d11d77",
   "metadata": {},
   "outputs": [
    {
     "data": {
      "text/plain": [
       "\"\\nTo create a time entry, select the User field and choose the name of the person you'd like to add the entry for. Then, add notes and the amount of the flat fee. You can also add more flat fees if you require them. Time entries and expenses will not be an option unless a case file were to be chosen.\""
      ]
     },
     "execution_count": 42,
     "metadata": {},
     "output_type": "execute_result"
    }
   ],
   "source": [
    "result['result']"
   ]
  },
  {
   "cell_type": "code",
   "execution_count": 44,
   "id": "0e03e454",
   "metadata": {},
   "outputs": [
    {
     "data": {
      "text/plain": [
       "[Document(page_content=\"Yes, you can create time/expense entries on behalf of another firm user.\\n\\nOVERVIEW\\n\\nThis comes in handy for situations such as a paralegal entering time for an attorney. Even though the paralegal is entering the entry into MyCase, it should still be tied to the attorney, not the paralegal.\\n\\nWhen creating a time/expense entry, there is a field called User (pictured below). You will see a dropdown menu that has the names of all the firm employees on your MyCase account. By default, your name will appear here. Simply select the name of the person you'd like to add the entry for.\", metadata={'source': 'https://support.mycase.com/en/articles/6449590-can-i-create-time-expense-entries-for-other-firm-users'}),\n",
       " Document(page_content=\"MyCase makes it easy for you to create an invoice for contacts whom you need to bill for a consultation, or to bill clients who need a basic task done that isn't necessarily associated with a case or matter.When creating an invoice, at the top left select the contact first. If the contact you've selected has cases linked to them, their cases will be available to choose as well as an option for 'None'. If the contact is linked to one case, then that case will be the default option. If the contact you've selected does not have any cases linked to them, 'None' will be the only option.To make sure the invoice is created and not linked to a case, select 'None' under the 'Matter' section.\\n\\nWhen an invoice is being created and not linked to a case, the invoice will default to have a flat fee line item. Simply add your notes and the amount of the flat fee. You can also add more flat fees if you require them. Time entries and expenses will not be an option unless a case file were to be chosen.\", metadata={'source': 'https://support.mycase.com/en/articles/6442227-improved-invoice-details-layout'}),\n",
       " Document(page_content='Even after an invoice has been created, you can still go back and make changes to it. This is useful for fixing errors, adding additional line items, changing payment terms, etc.\\n\\nTo edit an invoice, simply find the invoice you want to edit and open its details page (pictured below). Then, in the actions toolbar, click the Edit button.\\n\\nTo edit invoice sharing:\\n\\nIf you need to share or un-share the invoice with contacts, click the Share via Portal or Email Invoice on the invoice toolbar. Read more about Invoice Sharing. You can also send payment reminders and record a payment from this invoice toolbar.\\n\\nTo edit payment history of an invoice (issue refunds and delete transactions):\\n\\nTo edit payment history, click the Invoice History button on the invoice toolbar. Read more about Editing Payment History.\\n\\nCreating an Invoice [w/ VIDEO]Enabling Online Payments on an Invoice [w/ VIDEO]Quick Invoicing Without a Case', metadata={'source': 'https://support.mycase.com/en/articles/6638008-how-do-i-edit-an-existing-invoice-w-video'}),\n",
       " Document(page_content=\"After the invoice is saved, it can be shared via the client portal or emailed directly to the client's email. Separately, a link to a payment page can be copied and sent via text or email if you have MyCase Payments turned on. To learn more about MyCase Payments, click here.The invoice can be found in the Invoices section under the Contact details. It can also be viewed in the main Invoicing section in the Billing tab.\", metadata={'source': 'https://support.mycase.com/en/articles/6442227-improved-invoice-details-layout'})]"
      ]
     },
     "execution_count": 44,
     "metadata": {},
     "output_type": "execute_result"
    }
   ],
   "source": [
    "result['source_documents']"
   ]
  },
  {
   "cell_type": "markdown",
   "id": "b654b2c7",
   "metadata": {},
   "source": [
    "Doesn't look like the response here was much better, but still cool that we are getting answers. I've spent 15 cents at this point too. There was a big jump from 35 hundreths of a cent to 15 cents when running the chain up above for some reason. Could have been a delay too. "
   ]
  },
  {
   "cell_type": "markdown",
   "id": "803fe99a",
   "metadata": {},
   "source": [
    "Seems like this isn't really any better than the version above"
   ]
  },
  {
   "cell_type": "markdown",
   "id": "f15c833d",
   "metadata": {},
   "source": [
    "# Takeaways\n",
    "After messing around with this and doing some research this last weekend I've concluded the following:\n",
    "- This is a super powerful/interesting tool\n",
    "- Langchain is awesome because you can build quickly, but it is very abstracted. It is definitely important to spend some time really going through the code and what's going on under the hood if we are to actually implement a solution with it\n",
    "- Costs are still a bit unclear to me, howver I know the general costs/ workflow goes like this\n",
    "    - We get our documents prepped to be embedded (free)\n",
    "    - We embed our data (there are free options, but OpenAI embeddings endpoint has costs)\n",
    "    - We send our embeddings to a vectorDB (using chroma which is free, but transient, there are free tier with paid options like pinecone, weiviate, etc. Postgres also has the ability to store vectors\n",
    "    - We receive user input and embed that input (have to pay to embed it but shouldn't be too expensive\n",
    "    - We query the vectorDB for documents based on our input (free)\n",
    "    - We return the documents from our query and then \"stuff\" them into our prompt as context. There are other ways to do this too. The prompt used for this is actually written above. (OPENAI chat endpoint which can cost some money)\n",
    "    - We return the result to the user (have the option to include the sources used, probably could get other metadata shown too but not sure\n",
    "- Data not persistent\n",
    "    - Need to look into a way to store these vector embeddings, otherwise we are wasting resources embedding the article every time someone queries\n",
    "    - As mentioned above can look into pinecone, weviate and other options\n",
    "- Need more data\n",
    "    - Would be good to add a few more links to really show the world what this puppy can do, just don't want to waste money doing this until we are saving it in a vectorDB\n",
    "- Model can be slightly overconfident\n",
    "    - As seen above, the model thinks it knows how to create a time entry, but it doesn't. I think by supplying it with more info, I think we can get arount this issue, the nice thing is that we can cite sources so users at least know where the model is coming from. "
   ]
  }
 ],
 "metadata": {
  "kernelspec": {
   "display_name": "Python 3 (ipykernel)",
   "language": "python",
   "name": "python3"
  },
  "language_info": {
   "codemirror_mode": {
    "name": "ipython",
    "version": 3
   },
   "file_extension": ".py",
   "mimetype": "text/x-python",
   "name": "python",
   "nbconvert_exporter": "python",
   "pygments_lexer": "ipython3",
   "version": "3.10.9"
  }
 },
 "nbformat": 4,
 "nbformat_minor": 5
}
