{
 "cells": [
  {
   "cell_type": "code",
   "execution_count": 2,
   "id": "560f344e",
   "metadata": {},
   "outputs": [],
   "source": [
    "import pandas as pd\n",
    "import requests\n",
    "from bs4 import BeautifulSoup\n",
    "import time"
   ]
  },
  {
   "cell_type": "markdown",
   "id": "5c8f2e67",
   "metadata": {},
   "source": [
    "# Get support articles\n",
    "We could copy and paste, but we didn't learn to code to copy and paste"
   ]
  },
  {
   "cell_type": "code",
   "execution_count": 3,
   "id": "c78d14a6",
   "metadata": {},
   "outputs": [],
   "source": [
    "SUPPORT_HOME_URL = 'https://support.mycase.com/en/'\n",
    "support_home_page = requests.get(SUPPORT_HOME_URL)\n",
    "soup = BeautifulSoup(support_home_page.text, 'html.parser')\n"
   ]
  },
  {
   "cell_type": "code",
   "execution_count": 4,
   "id": "4dd14ec9",
   "metadata": {},
   "outputs": [],
   "source": [
    "parent_links = []\n",
    "for parent_link in soup.find_all('a', class_='collection-link'):\n",
    "    parent_links.append(parent_link.get('href'))"
   ]
  },
  {
   "cell_type": "code",
   "execution_count": 5,
   "id": "3a410957",
   "metadata": {},
   "outputs": [],
   "source": [
    "def extract_child_links(parent_link):\n",
    "    parent_link_page = requests.get(parent_link)\n",
    "    soup = BeautifulSoup(parent_link_page.text, 'html.parser')\n",
    "    result = []\n",
    "    for link in soup.find_all('a', class_='duration-250'):\n",
    "        result.append(link.get('href'))\n",
    "    return result"
   ]
  },
  {
   "cell_type": "code",
   "execution_count": 6,
   "id": "077c94a6",
   "metadata": {},
   "outputs": [],
   "source": [
    "all_links = []\n",
    "link_dict = {}\n",
    "for link in parent_links:\n",
    "    child_links = extract_child_links(link)\n",
    "    link_dict[link] = child_links\n",
    "    all_links += child_links\n",
    "    time.sleep(3)"
   ]
  },
  {
   "cell_type": "markdown",
   "id": "5a39402d",
   "metadata": {},
   "source": [
    "# Create Embeddings and Document\n",
    "Use for Document Q/A"
   ]
  },
  {
   "cell_type": "code",
   "execution_count": 1,
   "id": "a9e473e9",
   "metadata": {},
   "outputs": [],
   "source": [
    "from langchain.document_loaders import UnstructuredURLLoader\n",
    "import nltk"
   ]
  },
  {
   "cell_type": "code",
   "execution_count": 9,
   "id": "02d6bc19",
   "metadata": {},
   "outputs": [],
   "source": [
    "loader = UnstructuredURLLoader(urls=all_links)"
   ]
  },
  {
   "cell_type": "code",
   "execution_count": 11,
   "id": "fa75e854",
   "metadata": {},
   "outputs": [],
   "source": [
    "data = loader.load()"
   ]
  },
  {
   "cell_type": "code",
   "execution_count": 19,
   "id": "389386a2",
   "metadata": {},
   "outputs": [],
   "source": [
    "from langchain import PromptTemplate, HuggingFaceHub, LLMChain\n",
    "from langchain.embeddings import HuggingFaceEmbeddings\n",
    "from langchain.vectorstores import Chroma\n",
    "from langchain.text_splitter import CharacterTextSplitter\n",
    "from langchain.indexes import VectorstoreIndexCreator\n",
    "import os\n",
    "os.environ[\"OPENAI_API_KEY\"] = '...'"
   ]
  },
  {
   "cell_type": "code",
   "execution_count": 15,
   "id": "2abd6072",
   "metadata": {},
   "outputs": [
    {
     "name": "stderr",
     "output_type": "stream",
     "text": [
      "/Users/michael.branconier/anaconda3/lib/python3.10/site-packages/tqdm/auto.py:22: TqdmWarning: IProgress not found. Please update jupyter and ipywidgets. See https://ipywidgets.readthedocs.io/en/stable/user_install.html\n",
      "  from .autonotebook import tqdm as notebook_tqdm\n",
      "Downloading: 100%|██████████████████████████| 1.18k/1.18k [00:00<00:00, 408kB/s]\n",
      "Downloading: 100%|█████████████████████████████| 190/190 [00:00<00:00, 47.1kB/s]\n",
      "Downloading: 100%|█████████████████████████| 10.6k/10.6k [00:00<00:00, 1.99MB/s]\n",
      "Downloading: 100%|██████████████████████████████| 612/612 [00:00<00:00, 102kB/s]\n",
      "Downloading: 100%|█████████████████████████████| 116/116 [00:00<00:00, 41.4kB/s]\n",
      "Downloading: 100%|██████████████████████████| 39.3k/39.3k [00:00<00:00, 601kB/s]\n",
      "Downloading: 100%|█████████████████████████| 90.9M/90.9M [00:03<00:00, 24.5MB/s]\n",
      "Downloading: 100%|███████████████████████████| 53.0/53.0 [00:00<00:00, 11.0kB/s]\n",
      "Downloading: 100%|█████████████████████████████| 112/112 [00:00<00:00, 20.1kB/s]\n",
      "Downloading: 100%|███████████████████████████| 466k/466k [00:00<00:00, 2.17MB/s]\n",
      "Downloading: 100%|█████████████████████████████| 350/350 [00:00<00:00, 99.3kB/s]\n",
      "Downloading: 100%|█████████████████████████| 13.2k/13.2k [00:00<00:00, 4.51MB/s]\n",
      "Downloading: 100%|███████████████████████████| 232k/232k [00:00<00:00, 3.44MB/s]\n",
      "Downloading: 100%|██████████████████████████████| 349/349 [00:00<00:00, 178kB/s]\n"
     ]
    }
   ],
   "source": [
    "HUGGING_FACE_API_KEY = \"...\"\n",
    "hf_embeddings = HuggingFaceEmbeddings(model_name='sentence-transformers/all-MiniLM-L6-v2')"
   ]
  },
  {
   "cell_type": "code",
   "execution_count": 20,
   "id": "0e16818b",
   "metadata": {},
   "outputs": [
    {
     "name": "stderr",
     "output_type": "stream",
     "text": [
      "Created a chunk of size 1206, which is longer than the specified 1000\n",
      "Created a chunk of size 1006, which is longer than the specified 1000\n",
      "Created a chunk of size 1071, which is longer than the specified 1000\n",
      "Created a chunk of size 1092, which is longer than the specified 1000\n",
      "Created a chunk of size 1045, which is longer than the specified 1000\n",
      "Created a chunk of size 1015, which is longer than the specified 1000\n",
      "Created a chunk of size 1270, which is longer than the specified 1000\n",
      "Created a chunk of size 1184, which is longer than the specified 1000\n",
      "Created a chunk of size 1122, which is longer than the specified 1000\n",
      "Created a chunk of size 1093, which is longer than the specified 1000\n",
      "Created a chunk of size 1025, which is longer than the specified 1000\n",
      "Using embedded DuckDB without persistence: data will be transient\n"
     ]
    }
   ],
   "source": [
    "index = VectorstoreIndexCreator(\n",
    "    vectorstore_cls=Chroma, \n",
    "    embedding=hf_embeddings,\n",
    "    text_splitter=CharacterTextSplitter(chunk_size=1000, chunk_overlap=0)\n",
    ").from_loaders([loader]) "
   ]
  },
  {
   "cell_type": "code",
   "execution_count": 24,
   "id": "a83909c4",
   "metadata": {},
   "outputs": [
    {
     "data": {
      "text/plain": [
       "{'question': 'How do I edit an invoice?',\n",
       " 'answer': ' To edit an invoice, find the invoice you want to edit and open its details page. Then, in the actions toolbar, click the Edit button. You can also edit invoice sharing, payment history, expense entries, unpaid invoice balance forward, adjustments, terms and conditions/notes.\\nSource: https://support.mycase.com/en/articles/6638008-how-do-i-edit-an-existing-invoice-w-video, https://support.mycase.com/en/articles/6081993-creating-an-invoice-w-video, https://support.mycase.com/en/articles/6403155-marking-invoices-as-sent, https://support.mycase.com/en/articles/6081934-billing-invoicing-guide',\n",
       " 'sources': ''}"
      ]
     },
     "execution_count": 24,
     "metadata": {},
     "output_type": "execute_result"
    }
   ],
   "source": [
    "query = \"How do I edit an invoice?\"\n",
    "index.query_with_sources(query)"
   ]
  },
  {
   "cell_type": "code",
   "execution_count": 25,
   "id": "a6038d3f",
   "metadata": {},
   "outputs": [
    {
     "data": {
      "text/plain": [
       "{'question': 'How do I Manually Import Bank Feed Transactions?',\n",
       " 'answer': ' To manually import bank feed transactions, you need to upload the file to the MyCase application, process the transactions, map the columns, and view the result.\\n',\n",
       " 'sources': 'https://support.mycase.com/en/articles/6577421-how-to-manually-import-bank-feed-transactions'}"
      ]
     },
     "execution_count": 25,
     "metadata": {},
     "output_type": "execute_result"
    }
   ],
   "source": [
    "query = \"How do I Manually Import Bank Feed Transactions?\"\n",
    "index.query_with_sources(query)"
   ]
  },
  {
   "cell_type": "code",
   "execution_count": 26,
   "id": "ed73eabd",
   "metadata": {},
   "outputs": [
    {
     "data": {
      "text/plain": [
       "{'question': 'How do I perform banknig reconciliations?',\n",
       " 'answer': ' To perform bank reconciliations, begin by matching and categorizing all transactions within the statement period. Then, navigate to the Accounting tab and select Bank Reconciliation. Select the bank account to reconcile, review the Beginning Balance, choose the Ending Date, and select Start Reconciling. Compare the bank statement to the transactions entered in MyCase, and check the box associated with each transaction to reconcile it. If the difference between the statement and MyCase balance is $0.00, select the option to Save and Finish.\\n',\n",
       " 'sources': 'https://support.mycase.com/en/articles/6263648-performing-bank-reconciliations-in-mycase-accounting'}"
      ]
     },
     "execution_count": 26,
     "metadata": {},
     "output_type": "execute_result"
    }
   ],
   "source": [
    "query = \"How do I perform banknig reconciliations?\"\n",
    "index.query_with_sources(query)"
   ]
  },
  {
   "cell_type": "code",
   "execution_count": 27,
   "id": "c1eea7e9",
   "metadata": {},
   "outputs": [
    {
     "data": {
      "text/plain": [
       "{'question': 'How do I install the outlook add in?',\n",
       " 'answer': ' To install the Outlook add-in, click the 3 dots in line with the recipient details, select Get Add-ins, search “MyCase” in the Add-in store, click Add to install, open any email in your inbox, click the 3 dots in line with the recipient details, select MyCase Add-in, and select Link Email to MyCase.\\n',\n",
       " 'sources': 'https://support.mycase.com/en/articles/7060992-mycase-outlook-add-in-usage-guide\\nhttps://support.mycase.com/en/articles/6449956-uninstalling-the-old-mycase-outlook-plugin\\nhttps://support.mycase.com/en/articles/7048956-install-document-automation-add-in-manually-with-xml-manifest-file'}"
      ]
     },
     "execution_count": 27,
     "metadata": {},
     "output_type": "execute_result"
    }
   ],
   "source": [
    "query = \"How do I install the outlook add in?\"\n",
    "index.query_with_sources(query)"
   ]
  },
  {
   "cell_type": "code",
   "execution_count": 28,
   "id": "18396b16",
   "metadata": {},
   "outputs": [
    {
     "data": {
      "text/plain": [
       "{'question': 'How do you create a new time entry?',\n",
       " 'answer': ' To create a new time entry, click the Add Time Entry on the dashboard or Add Item Menu. You will be taken to the Add Time Entry window where you can specify the case/matter, user, and activity associated with the time entry.\\n',\n",
       " 'sources': 'https://support.mycase.com/en/articles/6105927-time-tracking-w-video, https://support.mycase.com/en/articles/6110080-billing-activities, https://support.mycase.com/en/articles/6153250-creating-a-new-calendar-event'}"
      ]
     },
     "execution_count": 28,
     "metadata": {},
     "output_type": "execute_result"
    }
   ],
   "source": [
    "query = \"How do you create a new time entry?\"\n",
    "index.query_with_sources(query)"
   ]
  }
 ],
 "metadata": {
  "kernelspec": {
   "display_name": "Python 3 (ipykernel)",
   "language": "python",
   "name": "python3"
  },
  "language_info": {
   "codemirror_mode": {
    "name": "ipython",
    "version": 3
   },
   "file_extension": ".py",
   "mimetype": "text/x-python",
   "name": "python",
   "nbconvert_exporter": "python",
   "pygments_lexer": "ipython3",
   "version": "3.10.9"
  }
 },
 "nbformat": 4,
 "nbformat_minor": 5
}
